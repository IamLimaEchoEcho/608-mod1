{
 "cells": [
  {
   "cell_type": "code",
   "execution_count": 8,
   "metadata": {},
   "outputs": [
    {
     "name": "stdout",
     "output_type": "stream",
     "text": [
      "Minimum value is 2\n",
      "Maximum value is 8\n",
      "Average value is 5.0\n",
      "[2, 5, 8]\n",
      "(2, 5, 8)\n"
     ]
    }
   ],
   "source": [
    "# Bonus assignment for Module 1\n",
    "# Lee Jones\n",
    "# I hope it is OK for me to do my work going forward from VSCode.  This is the interface I prefer.  I can show my output from here or execute from iPython in the Anaconda prompt.  \n",
    "\n",
    "number1 = int(input('Enter first integer: '))\n",
    "number2 = int(input('Enter second integer: '))\n",
    "number3 = int(input('Enter third integer: '))\n",
    "\n",
    "mylist = [number1, number2, number3]\n",
    "\n",
    "minimum = min(mylist) #Instead of using \n",
    "maximum = max(mylist)\n",
    "average = sum(mylist) / len(mylist)\n",
    "\n",
    "print('Minimum value is', minimum)\n",
    "print('Maximum value is', maximum)\n",
    "print('Average value is', average)\n",
    "print(list(mylist))\n",
    "print(tuple(mylist))"
   ]
  }
 ],
 "metadata": {
  "kernelspec": {
   "display_name": "Python 3.9.12 ('base')",
   "language": "python",
   "name": "python3"
  },
  "language_info": {
   "codemirror_mode": {
    "name": "ipython",
    "version": 3
   },
   "file_extension": ".py",
   "mimetype": "text/x-python",
   "name": "python",
   "nbconvert_exporter": "python",
   "pygments_lexer": "ipython3",
   "version": "3.9.12"
  },
  "orig_nbformat": 4,
  "vscode": {
   "interpreter": {
    "hash": "fd998f0dae5f08cebb7df1c28aeb21fcbbf832e26386bcca61b87155b79048bf"
   }
  }
 },
 "nbformat": 4,
 "nbformat_minor": 2
}
